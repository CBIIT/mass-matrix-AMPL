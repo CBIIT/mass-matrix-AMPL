{
 "cells": [
  {
   "cell_type": "markdown",
   "id": "7215b526",
   "metadata": {},
   "source": [
    "# Using the MODAC Client"
   ]
  },
  {
   "cell_type": "markdown",
   "id": "3791a485",
   "metadata": {},
   "source": [
    "In this tutorial, we will utilize the [MODAC API](https://modac.cancer.gov/swagger-ui/4.14.0/index.html#/) to download and run an existing model from https://modac.cancer.gov/. This can be useful when you are running AMPL on a remote machine, and cannot easily upload existing models."
   ]
  },
  {
   "cell_type": "markdown",
   "id": "359daeb4",
   "metadata": {},
   "source": [
    "## Configuration\n",
    "\n",
    "In PrecisionFDA, you can declare `MODAC_USER` and `MODAC_PASS` in your `.env` file. See [PFDA.md](https://github.com/mass-matrix/AMPL/blob/master/PFDA.md#L44) for more information about the `.env` file. Alternatively, you can just set your environment like below:"
   ]
  },
  {
   "cell_type": "code",
   "execution_count": 1,
   "id": "5e52d05b",
   "metadata": {},
   "outputs": [],
   "source": [
    "import os\n",
    "\n",
    "os.environ['MODAC_USER'] = 'my-username@example.com'\n",
    "os.environ['MODAC_PASS'] = 'my-password'"
   ]
  },
  {
   "cell_type": "markdown",
   "id": "b87f4b77",
   "metadata": {},
   "source": [
    "## Downloading Existing Models"
   ]
  },
  {
   "cell_type": "markdown",
   "id": "8343a97c",
   "metadata": {},
   "source": [
    "As an example, we use the [QMugs HOMO-LUMO Prediction Model](https://modac.cancer.gov/assetDetails?dme_data_id=NCI-DME-MS01-63856556). However, you can choose any other model from this site. Be sure to copy `ASSET PATH`. For this example it's `/NCI_DOE_Archive/ATOM/QMugs/QMugs_HOMO-LUMO_Prediction_Model`"
   ]
  },
  {
   "cell_type": "code",
   "execution_count": 2,
   "id": "8cf8b820-f2f6-48bc-b83a-323fb6cb8b90",
   "metadata": {},
   "outputs": [
    {
     "name": "stderr",
     "output_type": "stream",
     "text": [
      "Calling function 'download_all_files_in_collection' with args: ('/NCI_DOE_Archive/ATOM/QMugs/QMugs_HOMO-LUMO_Prediction_Model',) kwargs: {}\n",
      "Calling function 'get_collection' with args: ('/NCI_DOE_Archive/ATOM/QMugs/QMugs_HOMO-LUMO_Prediction_Model',) kwargs: {}\n",
      "Get collection. Making requests to https://modac.cancer.gov/api/collection//NCI_DOE_Archive/ATOM/QMugs/QMugs_HOMO-LUMO_Prediction_Model\n",
      "Function 'get_collection' returned: {'collectionId': 63856556, 'collectionName': '/NCI_DOE_Archive/ATOM/QMugs/QMugs_HOMO-LUMO_Prediction_Model', 'absolutePath': '/NCI_DOE_Archive/ATOM/QMugs/QMugs_HOMO-LUMO_Prediction_Model', 'collectionParentName': '/NCI_DOE_Archive/ATOM/QMugs', 'collectionOwnerName': 'ncidoesvcp2', 'collectionOwnerZone': 'ncifprodZone', 'collectionMapId': '0', 'collectionInheritance': '1', 'createdAt': 1684528422000, 'specColType': 'NORMAL', 'subCollections': [{'id': 63856585, 'path': '/NCI_DOE_Archive/ATOM/QMugs/QMugs_HOMO-LUMO_Prediction_Model/Documentation', 'dataSize': 0}], 'dataObjects': [{'id': 63881700, 'path': '/NCI_DOE_Archive/ATOM/QMugs/QMugs_HOMO-LUMO_Prediction_Model/QMugs_curatedDFT.csv', 'dataSize': 0}, {'id': 63856565, 'path': '/NCI_DOE_Archive/ATOM/QMugs/QMugs_HOMO-LUMO_Prediction_Model/QMugs_curatedDFT_model_86052011-b22c-419c-b033-4c67586d319c.tar.gz', 'dataSize': 0}], 'subCollectionsTotalRecords': 0, 'dataObjectsTotalRecords': 0}\n",
      "Calling function 'download_file' with args: ('/NCI_DOE_Archive/ATOM/QMugs/QMugs_HOMO-LUMO_Prediction_Model/QMugs_curatedDFT.csv', 'QMugs_HOMO-LUMO_Prediction_Model/QMugs_curatedDFT.csv') kwargs: {}\n",
      "Making requests to https://modac.cancer.gov/api/v2/dataObject//NCI_DOE_Archive/ATOM/QMugs/QMugs_HOMO-LUMO_Prediction_Model/QMugs_curatedDFT.csv/download\n",
      "Function 'download_file' returned: True\n",
      "Calling function 'download_file' with args: ('/NCI_DOE_Archive/ATOM/QMugs/QMugs_HOMO-LUMO_Prediction_Model/QMugs_curatedDFT_model_86052011-b22c-419c-b033-4c67586d319c.tar.gz', 'QMugs_HOMO-LUMO_Prediction_Model/QMugs_curatedDFT_model_86052011-b22c-419c-b033-4c67586d319c.tar.gz') kwargs: {}\n",
      "Making requests to https://modac.cancer.gov/api/v2/dataObject//NCI_DOE_Archive/ATOM/QMugs/QMugs_HOMO-LUMO_Prediction_Model/QMugs_curatedDFT_model_86052011-b22c-419c-b033-4c67586d319c.tar.gz/download\n",
      "Function 'download_file' returned: True\n",
      "Function 'download_all_files_in_collection' returned: None\n"
     ]
    }
   ],
   "source": [
    "from atomsci.modac import *\n",
    "\n",
    "client = MoDaCClient()\n",
    "\n",
    "client.download_all_files_in_collection(\"/NCI_DOE_Archive/ATOM/QMugs/QMugs_HOMO-LUMO_Prediction_Model\")"
   ]
  },
  {
   "cell_type": "markdown",
   "id": "a050fec7",
   "metadata": {},
   "source": [
    "After the download is complete, you can see all the files get downloaded inside a folder which seems to be named by the model `ASSET NAME`. \n",
    "\n",
    "Here we look for all the files within the directory `QMugs_HOMO-LUMO_Prediction_Model/`"
   ]
  },
  {
   "cell_type": "code",
   "execution_count": 3,
   "id": "d718fd9f-7d84-4541-914c-22fda455f948",
   "metadata": {},
   "outputs": [
    {
     "data": {
      "text/plain": [
       "['QMugs_curatedDFT_model_86052011-b22c-419c-b033-4c67586d319c.tar.gz',\n",
       " 'QMugs_curatedDFT.csv']"
      ]
     },
     "execution_count": 3,
     "metadata": {},
     "output_type": "execute_result"
    }
   ],
   "source": [
    "import os\n",
    "\n",
    "project_dir = os.path.join(os.getcwd(), 'QMugs_HOMO-LUMO_Prediction_Model')\n",
    "os.listdir(project_dir)"
   ]
  },
  {
   "cell_type": "markdown",
   "id": "7d487188",
   "metadata": {},
   "source": [
    "## Import the dataset"
   ]
  },
  {
   "cell_type": "code",
   "execution_count": 4,
   "id": "648d2720-a06c-48c8-b936-e349a193102c",
   "metadata": {},
   "outputs": [
    {
     "data": {
      "text/html": [
       "<div>\n",
       "<style scoped>\n",
       "    .dataframe tbody tr th:only-of-type {\n",
       "        vertical-align: middle;\n",
       "    }\n",
       "\n",
       "    .dataframe tbody tr th {\n",
       "        vertical-align: top;\n",
       "    }\n",
       "\n",
       "    .dataframe thead th {\n",
       "        text-align: right;\n",
       "    }\n",
       "</style>\n",
       "<table border=\"1\" class=\"dataframe\">\n",
       "  <thead>\n",
       "    <tr style=\"text-align: right;\">\n",
       "      <th></th>\n",
       "      <th>chembl_id</th>\n",
       "      <th>smiles</th>\n",
       "      <th>GFN2_HOMO_LUMO_GAP</th>\n",
       "      <th>DFT_HOMO_LUMO_GAP</th>\n",
       "      <th>rdkit_smiles</th>\n",
       "      <th>inchi_key</th>\n",
       "      <th>compound_id</th>\n",
       "      <th>VALUE_NUM_mean</th>\n",
       "      <th>VALUE_NUM_std</th>\n",
       "      <th>Perc_Var</th>\n",
       "      <th>Remove_BadDuplicate</th>\n",
       "    </tr>\n",
       "  </thead>\n",
       "  <tbody>\n",
       "    <tr>\n",
       "      <th>0</th>\n",
       "      <td>CHEMBL1</td>\n",
       "      <td>[H]c1c([H])c2c(c([H])c1OC([H])([H])[H])OC([H])...</td>\n",
       "      <td>0.044924</td>\n",
       "      <td>0.242930</td>\n",
       "      <td>COc1ccc2c(c1)OC[C@H]1[C@@H]2C2=C(OC1(C)C)C1=C(...</td>\n",
       "      <td>GHBOEFUAGSHXPO-XZOTUCIWSA-N</td>\n",
       "      <td>GHBOEFUAGSHXPO-XZOTUCIWSA-N</td>\n",
       "      <td>0.242102</td>\n",
       "      <td>0.000833</td>\n",
       "      <td>0.341925</td>\n",
       "      <td>0</td>\n",
       "    </tr>\n",
       "    <tr>\n",
       "      <th>1</th>\n",
       "      <td>CHEMBL1000</td>\n",
       "      <td>[H]OC(=O)C([H])([H])OC([H])([H])C([H])([H])N1C...</td>\n",
       "      <td>0.115170</td>\n",
       "      <td>0.340824</td>\n",
       "      <td>O=C(O)COCCN1CCN([C@@H](c2ccccc2)c2ccc(Cl)cc2)CC1</td>\n",
       "      <td>ZKLPARSLTMPFCP-NRFANRHFSA-N</td>\n",
       "      <td>ZKLPARSLTMPFCP-NRFANRHFSA-N</td>\n",
       "      <td>0.333456</td>\n",
       "      <td>0.006397</td>\n",
       "      <td>2.209649</td>\n",
       "      <td>0</td>\n",
       "    </tr>\n",
       "    <tr>\n",
       "      <th>2</th>\n",
       "      <td>CHEMBL10000</td>\n",
       "      <td>[H]c1c([H])c(N([H])c2nc3c([H])c([H])c([H])c([H...</td>\n",
       "      <td>0.106596</td>\n",
       "      <td>0.293095</td>\n",
       "      <td>O=c1oc(Nc2ccc(I)cc2)nc2ccccc12</td>\n",
       "      <td>KXLZEFPIBPQEAU-UHFFFAOYSA-N</td>\n",
       "      <td>KXLZEFPIBPQEAU-UHFFFAOYSA-N</td>\n",
       "      <td>0.289124</td>\n",
       "      <td>0.003439</td>\n",
       "      <td>1.373521</td>\n",
       "      <td>0</td>\n",
       "    </tr>\n",
       "    <tr>\n",
       "      <th>3</th>\n",
       "      <td>CHEMBL100003</td>\n",
       "      <td>[H]O/C(OC([H])([H])[H])=C1\\C(C([H])([H])[H])=N...</td>\n",
       "      <td>0.080096</td>\n",
       "      <td>0.275410</td>\n",
       "      <td>CCC[C@@H]1C(C(=O)OCC)=C(C)N=C(C)/C1=C(\\O)OC</td>\n",
       "      <td>FCFUFMMLEUYHMD-CDZMIXDFSA-N</td>\n",
       "      <td>FCFUFMMLEUYHMD-CDZMIXDFSA-N</td>\n",
       "      <td>0.282891</td>\n",
       "      <td>0.007237</td>\n",
       "      <td>2.644696</td>\n",
       "      <td>0</td>\n",
       "    </tr>\n",
       "    <tr>\n",
       "      <th>4</th>\n",
       "      <td>CHEMBL100004</td>\n",
       "      <td>[H]O/C(OC([H])([H])C([H])([H])[H])=C1\\C(C([H])...</td>\n",
       "      <td>0.069851</td>\n",
       "      <td>0.272307</td>\n",
       "      <td>CCO/C(O)=C1/C(C)=NC(C)=C(C(=O)OCCSc2ccccc2)[C@...</td>\n",
       "      <td>CUHAMGYOMBKPLA-BQOWYSNXSA-N</td>\n",
       "      <td>CUHAMGYOMBKPLA-BQOWYSNXSA-N</td>\n",
       "      <td>0.272592</td>\n",
       "      <td>0.003115</td>\n",
       "      <td>0.104604</td>\n",
       "      <td>0</td>\n",
       "    </tr>\n",
       "  </tbody>\n",
       "</table>\n",
       "</div>"
      ],
      "text/plain": [
       "      chembl_id                                             smiles  \\\n",
       "0       CHEMBL1  [H]c1c([H])c2c(c([H])c1OC([H])([H])[H])OC([H])...   \n",
       "1    CHEMBL1000  [H]OC(=O)C([H])([H])OC([H])([H])C([H])([H])N1C...   \n",
       "2   CHEMBL10000  [H]c1c([H])c(N([H])c2nc3c([H])c([H])c([H])c([H...   \n",
       "3  CHEMBL100003  [H]O/C(OC([H])([H])[H])=C1\\C(C([H])([H])[H])=N...   \n",
       "4  CHEMBL100004  [H]O/C(OC([H])([H])C([H])([H])[H])=C1\\C(C([H])...   \n",
       "\n",
       "   GFN2_HOMO_LUMO_GAP  DFT_HOMO_LUMO_GAP  \\\n",
       "0            0.044924           0.242930   \n",
       "1            0.115170           0.340824   \n",
       "2            0.106596           0.293095   \n",
       "3            0.080096           0.275410   \n",
       "4            0.069851           0.272307   \n",
       "\n",
       "                                        rdkit_smiles  \\\n",
       "0  COc1ccc2c(c1)OC[C@H]1[C@@H]2C2=C(OC1(C)C)C1=C(...   \n",
       "1   O=C(O)COCCN1CCN([C@@H](c2ccccc2)c2ccc(Cl)cc2)CC1   \n",
       "2                     O=c1oc(Nc2ccc(I)cc2)nc2ccccc12   \n",
       "3        CCC[C@@H]1C(C(=O)OCC)=C(C)N=C(C)/C1=C(\\O)OC   \n",
       "4  CCO/C(O)=C1/C(C)=NC(C)=C(C(=O)OCCSc2ccccc2)[C@...   \n",
       "\n",
       "                     inchi_key                  compound_id  VALUE_NUM_mean  \\\n",
       "0  GHBOEFUAGSHXPO-XZOTUCIWSA-N  GHBOEFUAGSHXPO-XZOTUCIWSA-N        0.242102   \n",
       "1  ZKLPARSLTMPFCP-NRFANRHFSA-N  ZKLPARSLTMPFCP-NRFANRHFSA-N        0.333456   \n",
       "2  KXLZEFPIBPQEAU-UHFFFAOYSA-N  KXLZEFPIBPQEAU-UHFFFAOYSA-N        0.289124   \n",
       "3  FCFUFMMLEUYHMD-CDZMIXDFSA-N  FCFUFMMLEUYHMD-CDZMIXDFSA-N        0.282891   \n",
       "4  CUHAMGYOMBKPLA-BQOWYSNXSA-N  CUHAMGYOMBKPLA-BQOWYSNXSA-N        0.272592   \n",
       "\n",
       "   VALUE_NUM_std  Perc_Var  Remove_BadDuplicate  \n",
       "0       0.000833  0.341925                    0  \n",
       "1       0.006397  2.209649                    0  \n",
       "2       0.003439  1.373521                    0  \n",
       "3       0.007237  2.644696                    0  \n",
       "4       0.003115  0.104604                    0  "
      ]
     },
     "execution_count": 4,
     "metadata": {},
     "output_type": "execute_result"
    }
   ],
   "source": [
    "import pandas as pd\n",
    "\n",
    "test_datafile = os.path.join(project_dir, 'QMugs_curatedDFT.csv')\n",
    "test_data = pd.read_csv(test_datafile)\n",
    "test_data.head()"
   ]
  },
  {
   "cell_type": "markdown",
   "id": "5570b23d",
   "metadata": {},
   "source": [
    "## Run the model for predictions"
   ]
  },
  {
   "cell_type": "code",
   "execution_count": 5,
   "id": "d7142925-6d5b-42f1-adc3-3515b9336a24",
   "metadata": {},
   "outputs": [
    {
     "name": "stdout",
     "output_type": "stream",
     "text": [
      "Standardizing SMILES strings for 346780 compounds.\n"
     ]
    },
    {
     "name": "stderr",
     "output_type": "stream",
     "text": [
      "INFO:atomsci.ddm.utils.model_version_utils:/home/herman/massmatrix/AMPL/atomsci/ddm/examples/tutorials/QMugs_HOMO-LUMO_Prediction_Model/QMugs_curatedDFT_model_86052011-b22c-419c-b033-4c67586d319c.tar.gz, 1.4.1\n",
      "INFO:atomsci.ddm.utils.model_version_utils:Version compatible check: /home/herman/massmatrix/AMPL/atomsci/ddm/examples/tutorials/QMugs_HOMO-LUMO_Prediction_Model/QMugs_curatedDFT_model_86052011-b22c-419c-b033-4c67586d319c.tar.gz version = \"1.4\", AMPL version = \"1.6\"\n"
     ]
    },
    {
     "ename": "ValueError",
     "evalue": "Version compatible check: /home/herman/massmatrix/AMPL/atomsci/ddm/examples/tutorials/QMugs_HOMO-LUMO_Prediction_Model/QMugs_curatedDFT_model_86052011-b22c-419c-b033-4c67586d319c.tar.gz version: \"1.4\" not matching AMPL compatible version group: \"1.6\"",
     "output_type": "error",
     "traceback": [
      "\u001b[0;31m---------------------------------------------------------------------------\u001b[0m",
      "\u001b[0;31mValueError\u001b[0m                                Traceback (most recent call last)",
      "Cell \u001b[0;32mIn[5], line 13\u001b[0m\n\u001b[1;32m     11\u001b[0m compound_id \u001b[38;5;241m=\u001b[39m \u001b[38;5;124m'\u001b[39m\u001b[38;5;124mcompound_id\u001b[39m\u001b[38;5;124m'\u001b[39m\n\u001b[1;32m     12\u001b[0m smiles_col \u001b[38;5;241m=\u001b[39m \u001b[38;5;124m\"\u001b[39m\u001b[38;5;124mrdkit_smiles\u001b[39m\u001b[38;5;124m\"\u001b[39m\n\u001b[0;32m---> 13\u001b[0m results_df \u001b[38;5;241m=\u001b[39m \u001b[43mpfm\u001b[49m\u001b[38;5;241;43m.\u001b[39;49m\u001b[43mpredict_from_model_file\u001b[49m\u001b[43m(\u001b[49m\u001b[43mmodel_path\u001b[49m\u001b[43m \u001b[49m\u001b[38;5;241;43m=\u001b[39;49m\u001b[43m \u001b[49m\u001b[43mmodel_file\u001b[49m\u001b[43m,\u001b[49m\n\u001b[1;32m     14\u001b[0m \u001b[43m                            \u001b[49m\u001b[43minput_df\u001b[49m\u001b[43m \u001b[49m\u001b[38;5;241;43m=\u001b[39;49m\u001b[43m \u001b[49m\u001b[43minput_df\u001b[49m\u001b[43m,\u001b[49m\n\u001b[1;32m     15\u001b[0m \u001b[43m                            \u001b[49m\u001b[43msmiles_col\u001b[49m\u001b[43m \u001b[49m\u001b[38;5;241;43m=\u001b[39;49m\u001b[43m \u001b[49m\u001b[43msmiles_col\u001b[49m\u001b[43m,\u001b[49m\n\u001b[1;32m     16\u001b[0m \u001b[43m                            \u001b[49m\u001b[43mresponse_col\u001b[49m\u001b[43m \u001b[49m\u001b[38;5;241;43m=\u001b[39;49m\u001b[43m \u001b[49m\u001b[43mresponse_col\u001b[49m\u001b[43m)\u001b[49m\n\u001b[1;32m     17\u001b[0m results_df\u001b[38;5;241m.\u001b[39mhead()\n",
      "File \u001b[0;32m~/massmatrix/AMPL/atomsci/ddm/pipeline/predict_from_model.py:147\u001b[0m, in \u001b[0;36mpredict_from_model_file\u001b[0;34m(model_path, input_df, id_col, smiles_col, response_col, conc_col, is_featurized, dont_standardize, AD_method, k, dist_metric, external_training_data, max_train_records_for_AD)\u001b[0m\n\u001b[1;32m    144\u001b[0m has_responses \u001b[38;5;241m=\u001b[39m (\u001b[38;5;124m'\u001b[39m\u001b[38;5;124mresponse_cols\u001b[39m\u001b[38;5;124m'\u001b[39m \u001b[38;5;129;01min\u001b[39;00m pred_params)\n\u001b[1;32m    145\u001b[0m pred_params \u001b[38;5;241m=\u001b[39m parse\u001b[38;5;241m.\u001b[39mwrapper(pred_params)\n\u001b[0;32m--> 147\u001b[0m pipe \u001b[38;5;241m=\u001b[39m \u001b[43mmp\u001b[49m\u001b[38;5;241;43m.\u001b[39;49m\u001b[43mcreate_prediction_pipeline_from_file\u001b[49m\u001b[43m(\u001b[49m\u001b[43mpred_params\u001b[49m\u001b[43m,\u001b[49m\u001b[43m \u001b[49m\u001b[43mreload_dir\u001b[49m\u001b[38;5;241;43m=\u001b[39;49m\u001b[38;5;28;43;01mNone\u001b[39;49;00m\u001b[43m,\u001b[49m\u001b[43m \u001b[49m\u001b[43mmodel_path\u001b[49m\u001b[38;5;241;43m=\u001b[39;49m\u001b[43mmodel_path\u001b[49m\u001b[43m)\u001b[49m\n\u001b[1;32m    148\u001b[0m \u001b[38;5;28;01mif\u001b[39;00m external_training_data \u001b[38;5;129;01mis\u001b[39;00m \u001b[38;5;129;01mnot\u001b[39;00m \u001b[38;5;28;01mNone\u001b[39;00m:\n\u001b[1;32m    149\u001b[0m     pipe\u001b[38;5;241m.\u001b[39mparams\u001b[38;5;241m.\u001b[39mdataset_key\u001b[38;5;241m=\u001b[39mexternal_training_data\n",
      "File \u001b[0;32m~/massmatrix/AMPL/atomsci/ddm/pipeline/model_pipeline.py:1313\u001b[0m, in \u001b[0;36mcreate_prediction_pipeline_from_file\u001b[0;34m(params, reload_dir, model_path, model_type, featurization, verbose)\u001b[0m\n\u001b[1;32m   1310\u001b[0m \u001b[38;5;66;03m# Unpack the model tar archive if one is specified\u001b[39;00m\n\u001b[1;32m   1311\u001b[0m \u001b[38;5;28;01mif\u001b[39;00m model_path \u001b[38;5;129;01mis\u001b[39;00m \u001b[38;5;129;01mnot\u001b[39;00m \u001b[38;5;28;01mNone\u001b[39;00m:\n\u001b[1;32m   1312\u001b[0m     \u001b[38;5;66;03m# if mismatch, it will raise an exception\u001b[39;00m\n\u001b[0;32m-> 1313\u001b[0m     matched \u001b[38;5;241m=\u001b[39m \u001b[43mmu\u001b[49m\u001b[38;5;241;43m.\u001b[39;49m\u001b[43mcheck_version_compatible\u001b[49m\u001b[43m(\u001b[49m\u001b[43mmodel_path\u001b[49m\u001b[43m)\u001b[49m\n\u001b[1;32m   1314\u001b[0m     \u001b[38;5;28;01mif\u001b[39;00m reload_dir \u001b[38;5;129;01mis\u001b[39;00m \u001b[38;5;28;01mNone\u001b[39;00m:\n\u001b[1;32m   1315\u001b[0m         \u001b[38;5;66;03m# Create a temporary directory\u001b[39;00m\n\u001b[1;32m   1316\u001b[0m         reload_dir \u001b[38;5;241m=\u001b[39m tempfile\u001b[38;5;241m.\u001b[39mmkdtemp()\n",
      "File \u001b[0;32m~/massmatrix/AMPL/atomsci/ddm/utils/model_version_utils.py:149\u001b[0m, in \u001b[0;36mcheck_version_compatible\u001b[0;34m(input, ignore_check)\u001b[0m\n\u001b[1;32m    147\u001b[0m     \u001b[38;5;28;01mif\u001b[39;00m \u001b[38;5;129;01mnot\u001b[39;00m ignore_check:\n\u001b[1;32m    148\u001b[0m         my_error \u001b[38;5;241m=\u001b[39m \u001b[38;5;167;01mValueError\u001b[39;00m(\u001b[38;5;124m'\u001b[39m\u001b[38;5;124mVersion compatible check: \u001b[39m\u001b[38;5;132;01m{}\u001b[39;00m\u001b[38;5;124m version: \u001b[39m\u001b[38;5;124m\"\u001b[39m\u001b[38;5;132;01m{}\u001b[39;00m\u001b[38;5;124m\"\u001b[39m\u001b[38;5;124m not matching AMPL compatible version group: \u001b[39m\u001b[38;5;124m\"\u001b[39m\u001b[38;5;132;01m{}\u001b[39;00m\u001b[38;5;124m\"\u001b[39m\u001b[38;5;124m'\u001b[39m\u001b[38;5;241m.\u001b[39mformat(\u001b[38;5;28minput\u001b[39m, model_ampl_version, ampl_version))\n\u001b[0;32m--> 149\u001b[0m         \u001b[38;5;28;01mraise\u001b[39;00m my_error\n\u001b[1;32m    150\u001b[0m \u001b[38;5;28;01mreturn\u001b[39;00m match\n",
      "\u001b[0;31mValueError\u001b[0m: Version compatible check: /home/herman/massmatrix/AMPL/atomsci/ddm/examples/tutorials/QMugs_HOMO-LUMO_Prediction_Model/QMugs_curatedDFT_model_86052011-b22c-419c-b033-4c67586d319c.tar.gz version: \"1.4\" not matching AMPL compatible version group: \"1.6\""
     ]
    }
   ],
   "source": [
    "import logging\n",
    "import os\n",
    "from atomsci.ddm.pipeline import predict_from_model as pfm\n",
    "\n",
    "logger = logging.getLogger()\n",
    "logger.setLevel(logging.ERROR)\n",
    "\n",
    "model_file = os.path.join(project_dir, 'QMugs_curatedDFT_model_86052011-b22c-419c-b033-4c67586d319c.tar.gz')\n",
    "input_df = test_data # Make sure this matches your test dataset\n",
    "response_col = \"VALUE_NUM_mean\"\n",
    "compound_id = 'compound_id'\n",
    "smiles_col = \"rdkit_smiles\"\n",
    "results_df = pfm.predict_from_model_file(model_path = model_file,\n",
    "                            input_df = input_df,\n",
    "                            smiles_col = smiles_col,\n",
    "                            response_col = response_col)\n",
    "results_df.head()"
   ]
  },
  {
   "cell_type": "markdown",
   "id": "6c1fc411-f613-4486-a752-917eaab9c42e",
   "metadata": {},
   "source": [
    "## Notes\n",
    "- The Modac API can be unreliable at times\n",
    "- You may encounter a version compatibility error. In this case, you will need to run matching versions of AMPL\n",
    "For example:\n",
    "```\n",
    "ValueError: Version compatible check: <model>.tar.gz version: \"1.4\" not matching AMPL compatible version group: \"1.6\"\n",
    "```"
   ]
  }
 ],
 "metadata": {
  "kernelspec": {
   "display_name": "Python 3 (ipykernel)",
   "language": "python",
   "name": "python3"
  },
  "language_info": {
   "codemirror_mode": {
    "name": "ipython",
    "version": 3
   },
   "file_extension": ".py",
   "mimetype": "text/x-python",
   "name": "python",
   "nbconvert_exporter": "python",
   "pygments_lexer": "ipython3",
   "version": "3.9.19"
  }
 },
 "nbformat": 4,
 "nbformat_minor": 5
}
