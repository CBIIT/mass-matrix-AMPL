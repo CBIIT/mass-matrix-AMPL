{
 "cells": [
  {
   "cell_type": "markdown",
   "metadata": {},
   "source": [
    "# Hyperparameter Optimization\n",
    "In this tutorial we demonstrate the following:\n",
    "- Build a JSON config to perform a hyperparameter optimization for\n",
    "a random forest using Bayesian optimization.\n",
    "- Perform the optimization process.\n",
    "- Select the best model and display optimal hyperparameter choices.\n",
    "\n",
    "Hyperparameters detail specifics of the learning process or model\n",
    "that are not learned in the training process. For example, the \n",
    "number of random trees is a hyperparameter for a random forest\n",
    "whereas a parameter for a random forest is which features go into\n",
    "a tree node and where the split points are for each feature.\n",
    "\n",
    "The choice for hyperprameters strongly influence model performance,\n",
    "so it is important to be able to optimize them as well. [AMPL](https://github.com/ATOMScience-org/AMPL)\n",
    "offers a variety of hyperparameter optimization methods including\n",
    "random sampling, grid search, and Bayesian optimization. "
   ]
  },
  {
   "cell_type": "markdown",
   "metadata": {},
   "source": [
    "## Setup directories\n",
    "Describe important features like descriptor type and output directories. Make sure the directories are created before training the models."
   ]
  },
  {
   "cell_type": "code",
   "execution_count": 1,
   "metadata": {},
   "outputs": [],
   "source": [
    "import warnings\n",
    "warnings.filterwarnings('ignore', category=FutureWarning)\n",
    "\n",
    "import os\n",
    "\n",
    "descriptor_type = 'rdkit_raw'\n",
    "output_dir = 'output_kcna3_rdkit_raw'\n",
    "tmp_dir = 'tmp_kcna3_rdkit_raw'\n",
    "split_uuid = \"3c4e7b81-35e8-49c1-97c8-6a12faa36df4\"\n",
    "\n",
    "if not os.path.exists(f'./{output_dir}'):\n",
    "    os.mkdir(f'./{output_dir}')\n",
    "    \n",
    "if not os.path.exists(f'./{tmp_dir}'):\n",
    "    os.mkdir(f'./{tmp_dir}')"
   ]
  },
  {
   "cell_type": "markdown",
   "metadata": {},
   "source": [
    "## JSON Settings.\n",
    "- `'hyperparam':True` This setting indicates that we are performing\n",
    "a hyperparameter search instead of just training one model.\n",
    "- `'search_type':'hyperopt'` This specifies the hyperparameter\n",
    "search method. Other options include grid, random, and geometric.\n",
    "Specifications for each hyperparameter search method is different,\n",
    "please refer to the full documentation. Here we are using the\n",
    "Bayesian optimization method.\n",
    "- `'model_type':'RF|10'` This means [AMPL](https://github.com/ATOMScience-org/AMPL) will try 10 times to \n",
    "find the best set of hyperparameters using random forests. In \n",
    "production this parameter could be set to 100 or more.\n",
    "- `'rfe':'uniformint|8,512'` The Bayesian optimizer will uniformly\n",
    "search between 8 and 512 for the best number of random forest estimators.\n",
    "Similarly `rfd` stands for random forest depth and `rff` stands for\n",
    "random forest features.\n",
    "- `result_dir` Now expects two parameters. The first directory\n",
    "will contain the best trained models while the second directory will\n",
    "contain all models trained in the search."
   ]
  },
  {
   "cell_type": "code",
   "execution_count": 2,
   "metadata": {},
   "outputs": [],
   "source": [
    "config = {\n",
    "    \"hyperparam\": \"True\",\n",
    "    \"prediction_type\": \"regression\",\n",
    "\n",
    "    \"dataset_key\": \"dataset/curated_kcna3_ic50.csv\",\n",
    "    \"id_col\": \"compound_id\",\n",
    "    \"smiles_col\": \"base_rdkit_smiles\",\n",
    "    \"response_cols\": \"avg_pIC50\",\n",
    "\n",
    "    \"splitter\":\"scaffold\",\n",
    "    \"split_uuid\": split_uuid,\n",
    "    \"previously_split\": \"True\",\n",
    "\n",
    "    \"featurizer\": \"computed_descriptors\",\n",
    "    \"descriptor_type\" : descriptor_type,\n",
    "    \"transformers\": \"True\",\n",
    "\n",
    "    \"search_type\": \"hyperopt\",\n",
    "    \"model_type\": \"RF|10\",\n",
    "    \"rfe\": \"uniformint|8,512\",\n",
    "    \"rfd\": \"uniformint|6,32\",\n",
    "    \"rff\": \"uniformint|8,200\",\n",
    "\n",
    "    \"result_dir\": f\"./{output_dir},./{tmp_dir}\"\n",
    "}"
   ]
  },
  {
   "cell_type": "markdown",
   "metadata": {},
   "source": [
    "In tutorial 4 we directly imported the `parameter_parser` and `model_pipeline` objects to parse the `config` dict and train a single model. Here, we use `hyperparameter_search_wrapper` to handle many models for us. First we build the search by creating a list of parameters to use, and then we run the search."
   ]
  },
  {
   "cell_type": "code",
   "execution_count": 3,
   "metadata": {
    "scrolled": true
   },
   "outputs": [
    {
     "name": "stderr",
     "output_type": "stream",
     "text": [
      "Skipped loading some Jax models, missing a dependency. No module named 'jax'\n",
      "/home/apaulson/atomsci/lib/python3.9/site-packages/tqdm/auto.py:21: TqdmWarning: IProgress not found. Please update jupyter and ipywidgets. See https://ipywidgets.readthedocs.io/en/stable/user_install.html\n",
      "  from .autonotebook import tqdm as notebook_tqdm\n",
      "2024-01-30 21:05:34,738 Created a dataset hash '389b161b7a4eb2304323a7dfddacfacc' from dataset_key '/home/apaulson/repos/AMPL_umbrella/AMPL/atomsci/ddm/examples/tutorials2023/dataset/curated_kcna3_ic50.csv'\n"
     ]
    },
    {
     "name": "stdout",
     "output_type": "stream",
     "text": [
      "model_performance|train_r2|train_rms|valid_r2|valid_rms|test_r2|test_rms|model_params|model\n",
      "\n",
      "rf_estimators: 462, rf_max_depth: 9, rf_max_feature: 190                                                                  \n",
      "  0%|                                                                              | 0/10 [00:00<?, ?trial/s, best loss=?]"
     ]
    },
    {
     "name": "stderr",
     "output_type": "stream",
     "text": [
      "2024-01-30 21:05:34,761 ['dataset_hash'] are not part of the accepted list of parameters and will be ignored\n",
      "2024-01-30 21:05:34,767 Created a dataset hash '389b161b7a4eb2304323a7dfddacfacc' from dataset_key '/home/apaulson/repos/AMPL_umbrella/AMPL/atomsci/ddm/examples/tutorials2023/dataset/curated_kcna3_ic50.csv'\n"
     ]
    },
    {
     "name": "stdout",
     "output_type": "stream",
     "text": [
      "num_model_tasks is deprecated and its value is ignored.                                                                   \n",
      "RF model with computed_descriptors and rdkit_raw                                                                          \n",
      "  0%|                                                                              | 0/10 [00:00<?, ?trial/s, best loss=?]"
     ]
    },
    {
     "name": "stderr",
     "output_type": "stream",
     "text": [
      "2024-01-30 21:05:34,773 Reading descriptor spec table from /home/apaulson/repos/AMPL_umbrella/AMPL/atomsci/ddm/data/descriptor_sets_sources_by_descr_type.csv\n",
      "2024-01-30 21:05:34,775 Attempting to load featurized dataset\n",
      "2024-01-30 21:05:34,784 Got dataset, attempting to extract data\n",
      "2024-01-30 21:05:34,801 Creating deepchem dataset\n",
      "2024-01-30 21:05:34,801 Using prefeaturized data; number of features = 200\n",
      "2024-01-30 21:05:34,805 Previous dataset split restored\n",
      "/home/apaulson/atomsci/lib/python3.9/site-packages/deepchem/data/datasets.py:473: RuntimeWarning: overflow encountered in multiply\n",
      "  X_m2 += dx * (X - X_means)\n",
      "\n",
      "2024-01-30 21:05:34,809 Wrote transformers to ./tmp_kcna3_rdkit_raw/curated_kcna3_ic50/RF_computed_descriptors_scaffold_regression/f1d02063-cc0a-4e72-8a71-b6b7a4dd52f7/transformers.pkl\n",
      "2024-01-30 21:05:34,809 Transforming response data\n",
      "2024-01-30 21:05:34,809 Transforming feature data\n",
      "/home/apaulson/repos/AMPL_umbrella/AMPL/atomsci/ddm/pipeline/transformations.py:255: RuntimeWarning: invalid value encountered in divide\n",
      "  X = np.nan_to_num((X - self.X_means) * X_weight / self.X_stds)\n",
      "\n",
      "2024-01-30 21:05:34,810 Transforming response data\n",
      "2024-01-30 21:05:34,811 Transforming feature data\n",
      "2024-01-30 21:05:34,811 Transforming response data\n",
      "2024-01-30 21:05:34,812 Transforming feature data\n",
      "2024-01-30 21:05:34,812 Fitting random forest model\n",
      "2024-01-30 21:05:35,700 Fold 0: training r2_score = 0.973, validation r2_score = 0.720, test r2_score = 0.816\n",
      "2024-01-30 21:05:35,859 Wrote model tarball to ./tmp_kcna3_rdkit_raw/curated_kcna3_ic50_model_f1d02063-cc0a-4e72-8a71-b6b7a4dd52f7.tar.gz\n"
     ]
    },
    {
     "name": "stdout",
     "output_type": "stream",
     "text": [
      "model_performance|0.973|0.302|0.720|0.756|0.816|0.728|462_9_190|./tmp_kcna3_rdkit_raw/curated_kcna3_ic50_model_f1d02063-cc0a-4e72-8a71-b6b7a4dd52f7.tar.gz\n",
      "\n",
      "rf_estimators: 221, rf_max_depth: 16, rf_max_feature: 49                                                                  \n",
      " 10%|█████                                              | 1/10 [00:01<00:09,  1.11s/trial, best loss: 0.27954234848043114]"
     ]
    },
    {
     "name": "stderr",
     "output_type": "stream",
     "text": [
      "2024-01-30 21:05:35,870 ['dataset_hash'] are not part of the accepted list of parameters and will be ignored\n",
      "2024-01-30 21:05:35,876 Created a dataset hash '389b161b7a4eb2304323a7dfddacfacc' from dataset_key '/home/apaulson/repos/AMPL_umbrella/AMPL/atomsci/ddm/examples/tutorials2023/dataset/curated_kcna3_ic50.csv'\n"
     ]
    },
    {
     "name": "stdout",
     "output_type": "stream",
     "text": [
      "num_model_tasks is deprecated and its value is ignored.                                                                   \n",
      "RF model with computed_descriptors and rdkit_raw                                                                          \n",
      " 10%|█████                                              | 1/10 [00:01<00:09,  1.11s/trial, best loss: 0.27954234848043114]"
     ]
    },
    {
     "name": "stderr",
     "output_type": "stream",
     "text": [
      "2024-01-30 21:05:35,881 Attempting to load featurized dataset\n",
      "2024-01-30 21:05:35,890 Got dataset, attempting to extract data\n",
      "2024-01-30 21:05:35,904 Creating deepchem dataset\n",
      "2024-01-30 21:05:35,904 Using prefeaturized data; number of features = 200\n",
      "2024-01-30 21:05:35,907 Previous dataset split restored\n",
      "/home/apaulson/atomsci/lib/python3.9/site-packages/deepchem/data/datasets.py:473: RuntimeWarning: overflow encountered in multiply\n",
      "  X_m2 += dx * (X - X_means)\n",
      "\n",
      "2024-01-30 21:05:35,911 Wrote transformers to ./tmp_kcna3_rdkit_raw/curated_kcna3_ic50/RF_computed_descriptors_scaffold_regression/41f23bb2-ad80-4e91-8377-908426243d62/transformers.pkl\n",
      "2024-01-30 21:05:35,911 Transforming response data\n",
      "2024-01-30 21:05:35,911 Transforming feature data\n",
      "/home/apaulson/repos/AMPL_umbrella/AMPL/atomsci/ddm/pipeline/transformations.py:255: RuntimeWarning: invalid value encountered in divide\n",
      "  X = np.nan_to_num((X - self.X_means) * X_weight / self.X_stds)\n",
      "\n",
      "2024-01-30 21:05:35,912 Transforming response data\n",
      "2024-01-30 21:05:35,912 Transforming feature data\n",
      "2024-01-30 21:05:35,912 Transforming response data\n",
      "2024-01-30 21:05:35,913 Transforming feature data\n",
      "2024-01-30 21:05:35,913 Fitting random forest model\n",
      "2024-01-30 21:05:36,226 Fold 0: training r2_score = 0.975, validation r2_score = 0.718, test r2_score = 0.823\n",
      "2024-01-30 21:05:36,335 Wrote model tarball to ./tmp_kcna3_rdkit_raw/curated_kcna3_ic50_model_41f23bb2-ad80-4e91-8377-908426243d62.tar.gz\n"
     ]
    },
    {
     "name": "stdout",
     "output_type": "stream",
     "text": [
      "model_performance|0.975|0.289|0.718|0.760|0.823|0.715|221_16_49|./tmp_kcna3_rdkit_raw/curated_kcna3_ic50_model_41f23bb2-ad80-4e91-8377-908426243d62.tar.gz\n",
      "\n",
      "rf_estimators: 15, rf_max_depth: 13, rf_max_feature: 48                                                                   \n",
      " 20%|██████████▏                                        | 2/10 [00:01<00:05,  1.36trial/s, best loss: 0.27954234848043114]"
     ]
    },
    {
     "name": "stderr",
     "output_type": "stream",
     "text": [
      "2024-01-30 21:05:36,346 ['dataset_hash'] are not part of the accepted list of parameters and will be ignored\n",
      "2024-01-30 21:05:36,352 Created a dataset hash '389b161b7a4eb2304323a7dfddacfacc' from dataset_key '/home/apaulson/repos/AMPL_umbrella/AMPL/atomsci/ddm/examples/tutorials2023/dataset/curated_kcna3_ic50.csv'\n"
     ]
    },
    {
     "name": "stdout",
     "output_type": "stream",
     "text": [
      "num_model_tasks is deprecated and its value is ignored.                                                                   \n",
      "RF model with computed_descriptors and rdkit_raw                                                                          \n",
      " 20%|██████████▏                                        | 2/10 [00:01<00:05,  1.36trial/s, best loss: 0.27954234848043114]"
     ]
    },
    {
     "name": "stderr",
     "output_type": "stream",
     "text": [
      "2024-01-30 21:05:36,356 Attempting to load featurized dataset\n",
      "2024-01-30 21:05:36,366 Got dataset, attempting to extract data\n",
      "2024-01-30 21:05:36,380 Creating deepchem dataset\n",
      "2024-01-30 21:05:36,381 Using prefeaturized data; number of features = 200\n",
      "2024-01-30 21:05:36,384 Previous dataset split restored\n",
      "/home/apaulson/atomsci/lib/python3.9/site-packages/deepchem/data/datasets.py:473: RuntimeWarning: overflow encountered in multiply\n",
      "  X_m2 += dx * (X - X_means)\n",
      "\n",
      "2024-01-30 21:05:36,387 Wrote transformers to ./tmp_kcna3_rdkit_raw/curated_kcna3_ic50/RF_computed_descriptors_scaffold_regression/29d43d98-289b-4197-9a51-d9fa32bc968b/transformers.pkl\n",
      "2024-01-30 21:05:36,387 Transforming response data\n",
      "2024-01-30 21:05:36,388 Transforming feature data\n",
      "/home/apaulson/repos/AMPL_umbrella/AMPL/atomsci/ddm/pipeline/transformations.py:255: RuntimeWarning: invalid value encountered in divide\n",
      "  X = np.nan_to_num((X - self.X_means) * X_weight / self.X_stds)\n",
      "\n",
      "2024-01-30 21:05:36,388 Transforming response data\n",
      "2024-01-30 21:05:36,389 Transforming feature data\n",
      "2024-01-30 21:05:36,389 Transforming response data\n",
      "2024-01-30 21:05:36,390 Transforming feature data\n",
      "2024-01-30 21:05:36,390 Fitting random forest model\n",
      "2024-01-30 21:05:36,461 Fold 0: training r2_score = 0.970, validation r2_score = 0.706, test r2_score = 0.812\n",
      "2024-01-30 21:05:36,473 Wrote model tarball to ./tmp_kcna3_rdkit_raw/curated_kcna3_ic50_model_29d43d98-289b-4197-9a51-d9fa32bc968b.tar.gz\n"
     ]
    },
    {
     "name": "stdout",
     "output_type": "stream",
     "text": [
      "model_performance|0.970|0.316|0.706|0.775|0.812|0.737|15_13_48|./tmp_kcna3_rdkit_raw/curated_kcna3_ic50_model_29d43d98-289b-4197-9a51-d9fa32bc968b.tar.gz\n",
      "\n",
      "rf_estimators: 405, rf_max_depth: 25, rf_max_feature: 65                                                                  \n",
      " 30%|███████████████▎                                   | 3/10 [00:01<00:03,  2.16trial/s, best loss: 0.27954234848043114]"
     ]
    },
    {
     "name": "stderr",
     "output_type": "stream",
     "text": [
      "2024-01-30 21:05:36,484 ['dataset_hash'] are not part of the accepted list of parameters and will be ignored\n",
      "2024-01-30 21:05:36,490 Created a dataset hash '389b161b7a4eb2304323a7dfddacfacc' from dataset_key '/home/apaulson/repos/AMPL_umbrella/AMPL/atomsci/ddm/examples/tutorials2023/dataset/curated_kcna3_ic50.csv'\n"
     ]
    },
    {
     "name": "stdout",
     "output_type": "stream",
     "text": [
      "num_model_tasks is deprecated and its value is ignored.                                                                   \n",
      "RF model with computed_descriptors and rdkit_raw                                                                          \n",
      " 30%|███████████████▎                                   | 3/10 [00:01<00:03,  2.16trial/s, best loss: 0.27954234848043114]"
     ]
    },
    {
     "name": "stderr",
     "output_type": "stream",
     "text": [
      "2024-01-30 21:05:36,494 Attempting to load featurized dataset\n",
      "2024-01-30 21:05:36,505 Got dataset, attempting to extract data\n",
      "2024-01-30 21:05:36,519 Creating deepchem dataset\n",
      "2024-01-30 21:05:36,519 Using prefeaturized data; number of features = 200\n",
      "2024-01-30 21:05:36,523 Previous dataset split restored\n",
      "/home/apaulson/atomsci/lib/python3.9/site-packages/deepchem/data/datasets.py:473: RuntimeWarning: overflow encountered in multiply\n",
      "  X_m2 += dx * (X - X_means)\n",
      "\n",
      "2024-01-30 21:05:36,527 Wrote transformers to ./tmp_kcna3_rdkit_raw/curated_kcna3_ic50/RF_computed_descriptors_scaffold_regression/e9f1393d-26ce-4d87-a556-7d5db02ff98b/transformers.pkl\n",
      "2024-01-30 21:05:36,527 Transforming response data\n",
      "2024-01-30 21:05:36,527 Transforming feature data\n",
      "/home/apaulson/repos/AMPL_umbrella/AMPL/atomsci/ddm/pipeline/transformations.py:255: RuntimeWarning: invalid value encountered in divide\n",
      "  X = np.nan_to_num((X - self.X_means) * X_weight / self.X_stds)\n",
      "\n",
      "2024-01-30 21:05:36,528 Transforming response data\n",
      "2024-01-30 21:05:36,528 Transforming feature data\n",
      "2024-01-30 21:05:36,528 Transforming response data\n",
      "2024-01-30 21:05:36,528 Transforming feature data\n",
      "2024-01-30 21:05:36,529 Fitting random forest model\n",
      "2024-01-30 21:05:37,136 Fold 0: training r2_score = 0.976, validation r2_score = 0.718, test r2_score = 0.824\n",
      "2024-01-30 21:05:37,334 Wrote model tarball to ./tmp_kcna3_rdkit_raw/curated_kcna3_ic50_model_e9f1393d-26ce-4d87-a556-7d5db02ff98b.tar.gz\n"
     ]
    },
    {
     "name": "stdout",
     "output_type": "stream",
     "text": [
      "model_performance|0.976|0.285|0.718|0.759|0.824|0.713|405_25_65|./tmp_kcna3_rdkit_raw/curated_kcna3_ic50_model_e9f1393d-26ce-4d87-a556-7d5db02ff98b.tar.gz\n",
      "\n",
      "rf_estimators: 81, rf_max_depth: 13, rf_max_feature: 104                                                                  \n",
      " 40%|████████████████████▍                              | 4/10 [00:02<00:03,  1.61trial/s, best loss: 0.27954234848043114]"
     ]
    },
    {
     "name": "stderr",
     "output_type": "stream",
     "text": [
      "2024-01-30 21:05:37,346 ['dataset_hash'] are not part of the accepted list of parameters and will be ignored\n",
      "2024-01-30 21:05:37,352 Created a dataset hash '389b161b7a4eb2304323a7dfddacfacc' from dataset_key '/home/apaulson/repos/AMPL_umbrella/AMPL/atomsci/ddm/examples/tutorials2023/dataset/curated_kcna3_ic50.csv'\n"
     ]
    },
    {
     "name": "stdout",
     "output_type": "stream",
     "text": [
      "num_model_tasks is deprecated and its value is ignored.                                                                   \n",
      "RF model with computed_descriptors and rdkit_raw                                                                          \n",
      " 40%|████████████████████▍                              | 4/10 [00:02<00:03,  1.61trial/s, best loss: 0.27954234848043114]"
     ]
    },
    {
     "name": "stderr",
     "output_type": "stream",
     "text": [
      "2024-01-30 21:05:37,358 Attempting to load featurized dataset\n",
      "2024-01-30 21:05:37,368 Got dataset, attempting to extract data\n",
      "2024-01-30 21:05:37,383 Creating deepchem dataset\n",
      "2024-01-30 21:05:37,383 Using prefeaturized data; number of features = 200\n",
      "2024-01-30 21:05:37,387 Previous dataset split restored\n",
      "/home/apaulson/atomsci/lib/python3.9/site-packages/deepchem/data/datasets.py:473: RuntimeWarning: overflow encountered in multiply\n",
      "  X_m2 += dx * (X - X_means)\n",
      "\n",
      "2024-01-30 21:05:37,390 Wrote transformers to ./tmp_kcna3_rdkit_raw/curated_kcna3_ic50/RF_computed_descriptors_scaffold_regression/fdbb922e-226c-4775-b5ac-1abbd4a4bb16/transformers.pkl\n",
      "2024-01-30 21:05:37,390 Transforming response data\n",
      "2024-01-30 21:05:37,390 Transforming feature data\n",
      "/home/apaulson/repos/AMPL_umbrella/AMPL/atomsci/ddm/pipeline/transformations.py:255: RuntimeWarning: invalid value encountered in divide\n",
      "  X = np.nan_to_num((X - self.X_means) * X_weight / self.X_stds)\n",
      "\n",
      "2024-01-30 21:05:37,391 Transforming response data\n",
      "2024-01-30 21:05:37,392 Transforming feature data\n",
      "2024-01-30 21:05:37,392 Transforming response data\n",
      "2024-01-30 21:05:37,392 Transforming feature data\n",
      "2024-01-30 21:05:37,393 Fitting random forest model\n",
      "2024-01-30 21:05:37,563 Fold 0: training r2_score = 0.974, validation r2_score = 0.705, test r2_score = 0.811\n",
      "2024-01-30 21:05:37,603 Wrote model tarball to ./tmp_kcna3_rdkit_raw/curated_kcna3_ic50_model_fdbb922e-226c-4775-b5ac-1abbd4a4bb16.tar.gz\n"
     ]
    },
    {
     "name": "stdout",
     "output_type": "stream",
     "text": [
      "model_performance|0.974|0.293|0.705|0.778|0.811|0.738|81_13_104|./tmp_kcna3_rdkit_raw/curated_kcna3_ic50_model_fdbb922e-226c-4775-b5ac-1abbd4a4bb16.tar.gz\n",
      "\n",
      "rf_estimators: 106, rf_max_depth: 9, rf_max_feature: 193                                                                  \n",
      " 50%|█████████████████████████▌                         | 5/10 [00:02<00:02,  2.03trial/s, best loss: 0.27954234848043114]"
     ]
    },
    {
     "name": "stderr",
     "output_type": "stream",
     "text": [
      "2024-01-30 21:05:37,614 ['dataset_hash'] are not part of the accepted list of parameters and will be ignored\n",
      "2024-01-30 21:05:37,620 Created a dataset hash '389b161b7a4eb2304323a7dfddacfacc' from dataset_key '/home/apaulson/repos/AMPL_umbrella/AMPL/atomsci/ddm/examples/tutorials2023/dataset/curated_kcna3_ic50.csv'\n"
     ]
    },
    {
     "name": "stdout",
     "output_type": "stream",
     "text": [
      "num_model_tasks is deprecated and its value is ignored.                                                                   \n",
      "RF model with computed_descriptors and rdkit_raw                                                                          \n",
      " 50%|█████████████████████████▌                         | 5/10 [00:02<00:02,  2.03trial/s, best loss: 0.27954234848043114]"
     ]
    },
    {
     "name": "stderr",
     "output_type": "stream",
     "text": [
      "2024-01-30 21:05:37,624 Attempting to load featurized dataset\n",
      "2024-01-30 21:05:37,634 Got dataset, attempting to extract data\n",
      "2024-01-30 21:05:37,649 Creating deepchem dataset\n",
      "2024-01-30 21:05:37,649 Using prefeaturized data; number of features = 200\n",
      "2024-01-30 21:05:37,652 Previous dataset split restored\n",
      "/home/apaulson/atomsci/lib/python3.9/site-packages/deepchem/data/datasets.py:473: RuntimeWarning: overflow encountered in multiply\n",
      "  X_m2 += dx * (X - X_means)\n",
      "\n",
      "2024-01-30 21:05:37,656 Wrote transformers to ./tmp_kcna3_rdkit_raw/curated_kcna3_ic50/RF_computed_descriptors_scaffold_regression/37975da7-d554-4880-b970-54f0cfbe31d8/transformers.pkl\n",
      "2024-01-30 21:05:37,656 Transforming response data\n",
      "2024-01-30 21:05:37,656 Transforming feature data\n",
      "/home/apaulson/repos/AMPL_umbrella/AMPL/atomsci/ddm/pipeline/transformations.py:255: RuntimeWarning: invalid value encountered in divide\n",
      "  X = np.nan_to_num((X - self.X_means) * X_weight / self.X_stds)\n",
      "\n",
      "2024-01-30 21:05:37,657 Transforming response data\n",
      "2024-01-30 21:05:37,657 Transforming feature data\n",
      "2024-01-30 21:05:37,658 Transforming response data\n",
      "2024-01-30 21:05:37,658 Transforming feature data\n",
      "2024-01-30 21:05:37,659 Fitting random forest model\n",
      "2024-01-30 21:05:37,885 Fold 0: training r2_score = 0.973, validation r2_score = 0.716, test r2_score = 0.818\n",
      "2024-01-30 21:05:37,924 Wrote model tarball to ./tmp_kcna3_rdkit_raw/curated_kcna3_ic50_model_37975da7-d554-4880-b970-54f0cfbe31d8.tar.gz\n"
     ]
    },
    {
     "name": "stdout",
     "output_type": "stream",
     "text": [
      "model_performance|0.973|0.303|0.716|0.762|0.818|0.725|106_9_193|./tmp_kcna3_rdkit_raw/curated_kcna3_ic50_model_37975da7-d554-4880-b970-54f0cfbe31d8.tar.gz\n",
      "\n",
      "rf_estimators: 478, rf_max_depth: 14, rf_max_feature: 78                                                                  \n",
      " 60%|██████████████████████████████▌                    | 6/10 [00:03<00:01,  2.30trial/s, best loss: 0.27954234848043114]"
     ]
    },
    {
     "name": "stderr",
     "output_type": "stream",
     "text": [
      "2024-01-30 21:05:37,935 ['dataset_hash'] are not part of the accepted list of parameters and will be ignored\n",
      "2024-01-30 21:05:37,941 Created a dataset hash '389b161b7a4eb2304323a7dfddacfacc' from dataset_key '/home/apaulson/repos/AMPL_umbrella/AMPL/atomsci/ddm/examples/tutorials2023/dataset/curated_kcna3_ic50.csv'\n"
     ]
    },
    {
     "name": "stdout",
     "output_type": "stream",
     "text": [
      "num_model_tasks is deprecated and its value is ignored.                                                                   \n",
      "RF model with computed_descriptors and rdkit_raw                                                                          \n",
      " 60%|██████████████████████████████▌                    | 6/10 [00:03<00:01,  2.30trial/s, best loss: 0.27954234848043114]"
     ]
    },
    {
     "name": "stderr",
     "output_type": "stream",
     "text": [
      "2024-01-30 21:05:37,946 Attempting to load featurized dataset\n",
      "2024-01-30 21:05:37,956 Got dataset, attempting to extract data\n",
      "2024-01-30 21:05:37,969 Creating deepchem dataset\n",
      "2024-01-30 21:05:37,970 Using prefeaturized data; number of features = 200\n",
      "2024-01-30 21:05:37,973 Previous dataset split restored\n",
      "/home/apaulson/atomsci/lib/python3.9/site-packages/deepchem/data/datasets.py:473: RuntimeWarning: overflow encountered in multiply\n",
      "  X_m2 += dx * (X - X_means)\n",
      "\n",
      "2024-01-30 21:05:37,976 Wrote transformers to ./tmp_kcna3_rdkit_raw/curated_kcna3_ic50/RF_computed_descriptors_scaffold_regression/db3f9baa-a324-4e35-8f89-ceb51ec17b5d/transformers.pkl\n",
      "2024-01-30 21:05:37,976 Transforming response data\n",
      "2024-01-30 21:05:37,976 Transforming feature data\n",
      "/home/apaulson/repos/AMPL_umbrella/AMPL/atomsci/ddm/pipeline/transformations.py:255: RuntimeWarning: invalid value encountered in divide\n",
      "  X = np.nan_to_num((X - self.X_means) * X_weight / self.X_stds)\n",
      "\n",
      "2024-01-30 21:05:37,977 Transforming response data\n",
      "2024-01-30 21:05:37,977 Transforming feature data\n",
      "2024-01-30 21:05:37,977 Transforming response data\n",
      "2024-01-30 21:05:37,978 Transforming feature data\n",
      "2024-01-30 21:05:37,978 Fitting random forest model\n",
      "2024-01-30 21:05:38,726 Fold 0: training r2_score = 0.975, validation r2_score = 0.718, test r2_score = 0.823\n",
      "2024-01-30 21:05:38,952 Wrote model tarball to ./tmp_kcna3_rdkit_raw/curated_kcna3_ic50_model_db3f9baa-a324-4e35-8f89-ceb51ec17b5d.tar.gz\n"
     ]
    },
    {
     "name": "stdout",
     "output_type": "stream",
     "text": [
      "model_performance|0.975|0.287|0.718|0.759|0.823|0.714|478_14_78|./tmp_kcna3_rdkit_raw/curated_kcna3_ic50_model_db3f9baa-a324-4e35-8f89-ceb51ec17b5d.tar.gz\n",
      "\n",
      "rf_estimators: 294, rf_max_depth: 29, rf_max_feature: 166                                                                 \n",
      " 70%|███████████████████████████████████▋               | 7/10 [00:04<00:01,  1.59trial/s, best loss: 0.27954234848043114]"
     ]
    },
    {
     "name": "stderr",
     "output_type": "stream",
     "text": [
      "2024-01-30 21:05:38,963 ['dataset_hash'] are not part of the accepted list of parameters and will be ignored\n",
      "2024-01-30 21:05:38,969 Created a dataset hash '389b161b7a4eb2304323a7dfddacfacc' from dataset_key '/home/apaulson/repos/AMPL_umbrella/AMPL/atomsci/ddm/examples/tutorials2023/dataset/curated_kcna3_ic50.csv'\n"
     ]
    },
    {
     "name": "stdout",
     "output_type": "stream",
     "text": [
      "num_model_tasks is deprecated and its value is ignored.                                                                   \n",
      "RF model with computed_descriptors and rdkit_raw                                                                          \n",
      " 70%|███████████████████████████████████▋               | 7/10 [00:04<00:01,  1.59trial/s, best loss: 0.27954234848043114]"
     ]
    },
    {
     "name": "stderr",
     "output_type": "stream",
     "text": [
      "2024-01-30 21:05:38,973 Attempting to load featurized dataset\n",
      "2024-01-30 21:05:38,983 Got dataset, attempting to extract data\n",
      "2024-01-30 21:05:38,997 Creating deepchem dataset\n",
      "2024-01-30 21:05:38,997 Using prefeaturized data; number of features = 200\n",
      "2024-01-30 21:05:39,001 Previous dataset split restored\n",
      "/home/apaulson/atomsci/lib/python3.9/site-packages/deepchem/data/datasets.py:473: RuntimeWarning: overflow encountered in multiply\n",
      "  X_m2 += dx * (X - X_means)\n",
      "\n",
      "2024-01-30 21:05:39,004 Wrote transformers to ./tmp_kcna3_rdkit_raw/curated_kcna3_ic50/RF_computed_descriptors_scaffold_regression/3da75713-3770-4a13-b943-c9c96a6e7023/transformers.pkl\n",
      "2024-01-30 21:05:39,004 Transforming response data\n",
      "2024-01-30 21:05:39,004 Transforming feature data\n",
      "/home/apaulson/repos/AMPL_umbrella/AMPL/atomsci/ddm/pipeline/transformations.py:255: RuntimeWarning: invalid value encountered in divide\n",
      "  X = np.nan_to_num((X - self.X_means) * X_weight / self.X_stds)\n",
      "\n",
      "2024-01-30 21:05:39,005 Transforming response data\n",
      "2024-01-30 21:05:39,005 Transforming feature data\n",
      "2024-01-30 21:05:39,006 Transforming response data\n",
      "2024-01-30 21:05:39,006 Transforming feature data\n",
      "2024-01-30 21:05:39,006 Fitting random forest model\n",
      "2024-01-30 21:05:39,532 Fold 0: training r2_score = 0.976, validation r2_score = 0.725, test r2_score = 0.815\n",
      "2024-01-30 21:05:39,677 Wrote model tarball to ./tmp_kcna3_rdkit_raw/curated_kcna3_ic50_model_3da75713-3770-4a13-b943-c9c96a6e7023.tar.gz\n"
     ]
    },
    {
     "name": "stdout",
     "output_type": "stream",
     "text": [
      "model_performance|0.976|0.285|0.725|0.751|0.815|0.730|294_29_166|./tmp_kcna3_rdkit_raw/curated_kcna3_ic50_model_3da75713-3770-4a13-b943-c9c96a6e7023.tar.gz\n",
      "\n",
      "rf_estimators: 112, rf_max_depth: 17, rf_max_feature: 182                                                                 \n",
      " 80%|█████████████████████████████████████████▌          | 8/10 [00:04<00:01,  1.52trial/s, best loss: 0.2754645309004006]"
     ]
    },
    {
     "name": "stderr",
     "output_type": "stream",
     "text": [
      "2024-01-30 21:05:39,688 ['dataset_hash'] are not part of the accepted list of parameters and will be ignored\n",
      "2024-01-30 21:05:39,694 Created a dataset hash '389b161b7a4eb2304323a7dfddacfacc' from dataset_key '/home/apaulson/repos/AMPL_umbrella/AMPL/atomsci/ddm/examples/tutorials2023/dataset/curated_kcna3_ic50.csv'\n"
     ]
    },
    {
     "name": "stdout",
     "output_type": "stream",
     "text": [
      "num_model_tasks is deprecated and its value is ignored.                                                                   \n",
      "RF model with computed_descriptors and rdkit_raw                                                                          \n",
      " 80%|█████████████████████████████████████████▌          | 8/10 [00:04<00:01,  1.52trial/s, best loss: 0.2754645309004006]"
     ]
    },
    {
     "name": "stderr",
     "output_type": "stream",
     "text": [
      "2024-01-30 21:05:39,700 Attempting to load featurized dataset\n",
      "2024-01-30 21:05:39,709 Got dataset, attempting to extract data\n",
      "2024-01-30 21:05:39,724 Creating deepchem dataset\n",
      "2024-01-30 21:05:39,724 Using prefeaturized data; number of features = 200\n",
      "2024-01-30 21:05:39,728 Previous dataset split restored\n",
      "/home/apaulson/atomsci/lib/python3.9/site-packages/deepchem/data/datasets.py:473: RuntimeWarning: overflow encountered in multiply\n",
      "  X_m2 += dx * (X - X_means)\n",
      "\n",
      "2024-01-30 21:05:39,731 Wrote transformers to ./tmp_kcna3_rdkit_raw/curated_kcna3_ic50/RF_computed_descriptors_scaffold_regression/ed9fc657-e636-4c18-8799-b8ecb94d0cbe/transformers.pkl\n",
      "2024-01-30 21:05:39,732 Transforming response data\n",
      "2024-01-30 21:05:39,732 Transforming feature data\n",
      "/home/apaulson/repos/AMPL_umbrella/AMPL/atomsci/ddm/pipeline/transformations.py:255: RuntimeWarning: invalid value encountered in divide\n",
      "  X = np.nan_to_num((X - self.X_means) * X_weight / self.X_stds)\n",
      "\n",
      "2024-01-30 21:05:39,733 Transforming response data\n",
      "2024-01-30 21:05:39,733 Transforming feature data\n",
      "2024-01-30 21:05:39,734 Transforming response data\n",
      "2024-01-30 21:05:39,734 Transforming feature data\n",
      "2024-01-30 21:05:39,734 Fitting random forest model\n",
      "2024-01-30 21:05:39,972 Fold 0: training r2_score = 0.976, validation r2_score = 0.721, test r2_score = 0.811\n",
      "2024-01-30 21:05:40,029 Wrote model tarball to ./tmp_kcna3_rdkit_raw/curated_kcna3_ic50_model_ed9fc657-e636-4c18-8799-b8ecb94d0cbe.tar.gz\n"
     ]
    },
    {
     "name": "stdout",
     "output_type": "stream",
     "text": [
      "model_performance|0.976|0.285|0.721|0.756|0.811|0.737|112_17_182|./tmp_kcna3_rdkit_raw/curated_kcna3_ic50_model_ed9fc657-e636-4c18-8799-b8ecb94d0cbe.tar.gz\n",
      "\n",
      "rf_estimators: 58, rf_max_depth: 6, rf_max_feature: 143                                                                   \n",
      " 90%|██████████████████████████████████████████████▊     | 9/10 [00:05<00:00,  1.77trial/s, best loss: 0.2754645309004006]"
     ]
    },
    {
     "name": "stderr",
     "output_type": "stream",
     "text": [
      "2024-01-30 21:05:40,041 ['dataset_hash'] are not part of the accepted list of parameters and will be ignored\n",
      "2024-01-30 21:05:40,047 Created a dataset hash '389b161b7a4eb2304323a7dfddacfacc' from dataset_key '/home/apaulson/repos/AMPL_umbrella/AMPL/atomsci/ddm/examples/tutorials2023/dataset/curated_kcna3_ic50.csv'\n"
     ]
    },
    {
     "name": "stdout",
     "output_type": "stream",
     "text": [
      "num_model_tasks is deprecated and its value is ignored.                                                                   \n",
      "RF model with computed_descriptors and rdkit_raw                                                                          \n",
      " 90%|██████████████████████████████████████████████▊     | 9/10 [00:05<00:00,  1.77trial/s, best loss: 0.2754645309004006]"
     ]
    },
    {
     "name": "stderr",
     "output_type": "stream",
     "text": [
      "2024-01-30 21:05:40,053 Attempting to load featurized dataset\n",
      "2024-01-30 21:05:40,062 Got dataset, attempting to extract data\n",
      "2024-01-30 21:05:40,077 Creating deepchem dataset\n",
      "2024-01-30 21:05:40,078 Using prefeaturized data; number of features = 200\n",
      "2024-01-30 21:05:40,082 Previous dataset split restored\n",
      "/home/apaulson/atomsci/lib/python3.9/site-packages/deepchem/data/datasets.py:473: RuntimeWarning: overflow encountered in multiply\n",
      "  X_m2 += dx * (X - X_means)\n",
      "\n",
      "2024-01-30 21:05:40,085 Wrote transformers to ./tmp_kcna3_rdkit_raw/curated_kcna3_ic50/RF_computed_descriptors_scaffold_regression/aa7e5279-5bbc-4ca6-b9df-2ad912fccf7d/transformers.pkl\n",
      "2024-01-30 21:05:40,085 Transforming response data\n",
      "2024-01-30 21:05:40,085 Transforming feature data\n",
      "/home/apaulson/repos/AMPL_umbrella/AMPL/atomsci/ddm/pipeline/transformations.py:255: RuntimeWarning: invalid value encountered in divide\n",
      "  X = np.nan_to_num((X - self.X_means) * X_weight / self.X_stds)\n",
      "\n",
      "2024-01-30 21:05:40,086 Transforming response data\n",
      "2024-01-30 21:05:40,086 Transforming feature data\n",
      "2024-01-30 21:05:40,087 Transforming response data\n",
      "2024-01-30 21:05:40,087 Transforming feature data\n",
      "2024-01-30 21:05:40,087 Fitting random forest model\n",
      "2024-01-30 21:05:40,224 Fold 0: training r2_score = 0.951, validation r2_score = 0.717, test r2_score = 0.814\n",
      "2024-01-30 21:05:40,239 Wrote model tarball to ./tmp_kcna3_rdkit_raw/curated_kcna3_ic50_model_aa7e5279-5bbc-4ca6-b9df-2ad912fccf7d.tar.gz\n"
     ]
    },
    {
     "name": "stdout",
     "output_type": "stream",
     "text": [
      "model_performance|0.951|0.403|0.717|0.761|0.814|0.731|58_6_143|./tmp_kcna3_rdkit_raw/curated_kcna3_ic50_model_aa7e5279-5bbc-4ca6-b9df-2ad912fccf7d.tar.gz\n",
      "\n",
      "100%|███████████████████████████████████████████████████| 10/10 [00:05<00:00,  1.82trial/s, best loss: 0.2754645309004006]\n",
      "Generating the performance -- iteration table and Copy the best model tarball.\n",
      "Best model: ./tmp_kcna3_rdkit_raw/curated_kcna3_ic50_model_3da75713-3770-4a13-b943-c9c96a6e7023.tar.gz, valid R2: 0.7245354690995994\n"
     ]
    }
   ],
   "source": [
    "import atomsci.ddm.utils.hyperparam_search_wrapper as hsw\n",
    "\n",
    "params = hsw.parse_params(config)\n",
    "hs = hsw.build_search(params)\n",
    "hs.run_search()"
   ]
  },
  {
   "cell_type": "markdown",
   "metadata": {},
   "source": [
    "The best model will be saved in `output_kcna3_rdkit_raw` along with a csv file\n",
    "containing regression performance for all trained models.\n",
    "\n",
    "The rest of the models are saved in `tmp_kcna3_rdkit_raw`. These models can be\n",
    "explored using `get_filesystem_perf_results`."
   ]
  },
  {
   "cell_type": "code",
   "execution_count": 4,
   "metadata": {},
   "outputs": [
    {
     "name": "stderr",
     "output_type": "stream",
     "text": [
      "2024-01-30 21:06:08,880 Model tracker client not supported in your environment; can look at models in filesystem only.\n",
      "2024-01-30 21:06:08,895 Warning: column names have been changed to align with get_multitask_perf_from_tracker(): featurizer is now features and <subset>_<metric> has been changed to best_<subset>_<metric>.\n"
     ]
    },
    {
     "name": "stdout",
     "output_type": "stream",
     "text": [
      "Found data for 10 models under tmp_kcna3_rdkit_raw\n"
     ]
    },
    {
     "data": {
      "text/html": [
       "<div>\n",
       "<style scoped>\n",
       "    .dataframe tbody tr th:only-of-type {\n",
       "        vertical-align: middle;\n",
       "    }\n",
       "\n",
       "    .dataframe tbody tr th {\n",
       "        vertical-align: top;\n",
       "    }\n",
       "\n",
       "    .dataframe thead th {\n",
       "        text-align: right;\n",
       "    }\n",
       "</style>\n",
       "<table border=\"1\" class=\"dataframe\">\n",
       "  <thead>\n",
       "    <tr style=\"text-align: right;\">\n",
       "      <th></th>\n",
       "      <th>model_uuid</th>\n",
       "      <th>model_path</th>\n",
       "      <th>ampl_version</th>\n",
       "      <th>model_type</th>\n",
       "      <th>dataset_key</th>\n",
       "      <th>features</th>\n",
       "      <th>splitter</th>\n",
       "      <th>model_score_type</th>\n",
       "      <th>feature_transform_type</th>\n",
       "      <th>model_choice_score</th>\n",
       "      <th>...</th>\n",
       "      <th>rf_max_depth</th>\n",
       "      <th>max_epochs</th>\n",
       "      <th>best_epoch</th>\n",
       "      <th>learning_rate</th>\n",
       "      <th>layer_sizes</th>\n",
       "      <th>dropouts</th>\n",
       "      <th>xgb_gamma</th>\n",
       "      <th>xgb_learning_rate</th>\n",
       "      <th>model_parameters_dict</th>\n",
       "      <th>feat_parameters_dict</th>\n",
       "    </tr>\n",
       "  </thead>\n",
       "  <tbody>\n",
       "    <tr>\n",
       "      <th>7</th>\n",
       "      <td>3da75713-3770-4a13-b943-c9c96a6e7023</td>\n",
       "      <td>tmp_kcna3_rdkit_raw/curated_kcna3_ic50_model_3...</td>\n",
       "      <td>1.6.0</td>\n",
       "      <td>RF</td>\n",
       "      <td>/home/apaulson/repos/AMPL_umbrella/AMPL/atomsc...</td>\n",
       "      <td>rdkit_raw</td>\n",
       "      <td>scaffold</td>\n",
       "      <td>r2</td>\n",
       "      <td>normalization</td>\n",
       "      <td>0.724535</td>\n",
       "      <td>...</td>\n",
       "      <td>29</td>\n",
       "      <td>NaN</td>\n",
       "      <td>NaN</td>\n",
       "      <td>NaN</td>\n",
       "      <td>NaN</td>\n",
       "      <td>NaN</td>\n",
       "      <td>NaN</td>\n",
       "      <td>NaN</td>\n",
       "      <td>{\"rf_estimators\": 294, \"rf_max_depth\": 29, \"rf...</td>\n",
       "      <td>{}</td>\n",
       "    </tr>\n",
       "    <tr>\n",
       "      <th>8</th>\n",
       "      <td>ed9fc657-e636-4c18-8799-b8ecb94d0cbe</td>\n",
       "      <td>tmp_kcna3_rdkit_raw/curated_kcna3_ic50_model_e...</td>\n",
       "      <td>1.6.0</td>\n",
       "      <td>RF</td>\n",
       "      <td>/home/apaulson/repos/AMPL_umbrella/AMPL/atomsc...</td>\n",
       "      <td>rdkit_raw</td>\n",
       "      <td>scaffold</td>\n",
       "      <td>r2</td>\n",
       "      <td>normalization</td>\n",
       "      <td>0.720796</td>\n",
       "      <td>...</td>\n",
       "      <td>17</td>\n",
       "      <td>NaN</td>\n",
       "      <td>NaN</td>\n",
       "      <td>NaN</td>\n",
       "      <td>NaN</td>\n",
       "      <td>NaN</td>\n",
       "      <td>NaN</td>\n",
       "      <td>NaN</td>\n",
       "      <td>{\"rf_estimators\": 112, \"rf_max_depth\": 17, \"rf...</td>\n",
       "      <td>{}</td>\n",
       "    </tr>\n",
       "  </tbody>\n",
       "</table>\n",
       "<p>2 rows × 34 columns</p>\n",
       "</div>"
      ],
      "text/plain": [
       "                             model_uuid  \\\n",
       "7  3da75713-3770-4a13-b943-c9c96a6e7023   \n",
       "8  ed9fc657-e636-4c18-8799-b8ecb94d0cbe   \n",
       "\n",
       "                                          model_path ampl_version model_type  \\\n",
       "7  tmp_kcna3_rdkit_raw/curated_kcna3_ic50_model_3...        1.6.0         RF   \n",
       "8  tmp_kcna3_rdkit_raw/curated_kcna3_ic50_model_e...        1.6.0         RF   \n",
       "\n",
       "                                         dataset_key   features  splitter  \\\n",
       "7  /home/apaulson/repos/AMPL_umbrella/AMPL/atomsc...  rdkit_raw  scaffold   \n",
       "8  /home/apaulson/repos/AMPL_umbrella/AMPL/atomsc...  rdkit_raw  scaffold   \n",
       "\n",
       "  model_score_type feature_transform_type  model_choice_score  ...  \\\n",
       "7               r2          normalization            0.724535  ...   \n",
       "8               r2          normalization            0.720796  ...   \n",
       "\n",
       "   rf_max_depth  max_epochs  best_epoch  learning_rate  layer_sizes  dropouts  \\\n",
       "7            29         NaN         NaN            NaN          NaN       NaN   \n",
       "8            17         NaN         NaN            NaN          NaN       NaN   \n",
       "\n",
       "   xgb_gamma  xgb_learning_rate  \\\n",
       "7        NaN                NaN   \n",
       "8        NaN                NaN   \n",
       "\n",
       "                               model_parameters_dict  feat_parameters_dict  \n",
       "7  {\"rf_estimators\": 294, \"rf_max_depth\": 29, \"rf...                    {}  \n",
       "8  {\"rf_estimators\": 112, \"rf_max_depth\": 17, \"rf...                    {}  \n",
       "\n",
       "[2 rows x 34 columns]"
      ]
     },
     "execution_count": 4,
     "metadata": {},
     "output_type": "execute_result"
    }
   ],
   "source": [
    "import atomsci.ddm.pipeline.compare_models as cm\n",
    "\n",
    "result_df = cm.get_filesystem_perf_results(\n",
    "    result_dir='tmp_kcna3_rdkit_raw',\n",
    "    pred_type='regression'\n",
    ")\n",
    "\n",
    "# sort by validation r2 score to find the best model\n",
    "result_df = result_df.sort_values(by='best_valid_r2_score', ascending=False)\n",
    "result_df.head(2)"
   ]
  },
  {
   "cell_type": "markdown",
   "metadata": {},
   "source": [
    "The column `best_valid_r2_score` contains the validation set R2_score which determines how we select the best model. The column `model_parameters_dict` contains hyperparamters used for the best model. We can visualize this model using `plot_pred_vs_actual_from_file`."
   ]
  },
  {
   "cell_type": "code",
   "execution_count": 5,
   "metadata": {},
   "outputs": [
    {
     "data": {
      "text/plain": [
       "0.7245354690995994"
      ]
     },
     "execution_count": 5,
     "metadata": {},
     "output_type": "execute_result"
    }
   ],
   "source": [
    "result_df.iloc[0].best_valid_r2_score"
   ]
  },
  {
   "cell_type": "code",
   "execution_count": 6,
   "metadata": {},
   "outputs": [
    {
     "data": {
      "text/plain": [
       "'{\"rf_estimators\": 294, \"rf_max_depth\": 29, \"rf_max_features\": 166}'"
      ]
     },
     "execution_count": 6,
     "metadata": {},
     "output_type": "execute_result"
    }
   ],
   "source": [
    "result_df.iloc[0].model_parameters_dict"
   ]
  },
  {
   "cell_type": "code",
   "execution_count": 9,
   "metadata": {},
   "outputs": [
    {
     "name": "stderr",
     "output_type": "stream",
     "text": [
      "2024-01-30 21:07:44,046 tmp_kcna3_rdkit_raw/curated_kcna3_ic50_model_3da75713-3770-4a13-b943-c9c96a6e7023.tar.gz, 1.6.0\n",
      "2024-01-30 21:07:44,047 Version compatible check: tmp_kcna3_rdkit_raw/curated_kcna3_ic50_model_3da75713-3770-4a13-b943-c9c96a6e7023.tar.gz version = \"1.6\", AMPL version = \"1.6\"\n",
      "2024-01-30 21:07:44,079 ['ampl_version', 'time_generated', 'time_built', 'dataset_hash', 'dataset_metadata', 'training_metrics'] are not part of the accepted list of parameters and will be ignored\n",
      "2024-01-30 21:07:44,088 Created a dataset hash '389b161b7a4eb2304323a7dfddacfacc' from dataset_key '/home/apaulson/repos/AMPL_umbrella/AMPL/atomsci/ddm/examples/tutorials2023/dataset/curated_kcna3_ic50.csv'\n",
      "2024-01-30 21:07:44,091 Featurization = ComputedDescriptorFeaturization with rdkit_raw descriptors\n",
      "/home/apaulson/repos/AMPL_umbrella/AMPL/atomsci/ddm/pipeline/transformations.py:255: RuntimeWarning: invalid value encountered in divide\n",
      "  X = np.nan_to_num((X - self.X_means) * X_weight / self.X_stds)\n",
      "/home/apaulson/atomsci/lib/python3.9/site-packages/deepchem/data/datasets.py:473: RuntimeWarning: overflow encountered in multiply\n",
      "  X_m2 += dx * (X - X_means)\n",
      "/home/apaulson/repos/AMPL_umbrella/AMPL/atomsci/ddm/pipeline/transformations.py:255: RuntimeWarning: invalid value encountered in divide\n",
      "  X = np.nan_to_num((X - self.X_means) * X_weight / self.X_stds)\n"
     ]
    },
    {
     "name": "stdout",
     "output_type": "stream",
     "text": [
      "num_model_tasks is deprecated and its value is ignored.\n"
     ]
    },
    {
     "data": {
      "image/png": "[encoded data removed]",
      "text/plain": [
       "<Figure size 1000x3000 with 3 Axes>"
      ]
     },
     "metadata": {},
     "output_type": "display_data"
    }
   ],
   "source": [
    "import atomsci.ddm.pipeline.perf_plots as pp\n",
    "\n",
    "model_path=result_df.iloc[0].model_path\n",
    "\n",
    "pp.plot_pred_vs_actual_from_file(model_path)"
   ]
  },
  {
   "cell_type": "code",
   "execution_count": null,
   "metadata": {},
   "outputs": [],
   "source": []
  }
 ],
 "metadata": {
  "kernelspec": {
   "display_name": "Python 3 (ipykernel)",
   "language": "python",
   "name": "python3"
  },
  "language_info": {
   "codemirror_mode": {
    "name": "ipython",
    "version": 3
   },
   "file_extension": ".py",
   "mimetype": "text/x-python",
   "name": "python",
   "nbconvert_exporter": "python",
   "pygments_lexer": "ipython3",
   "version": "3.11.4"
  }
 },
 "nbformat": 4,
 "nbformat_minor": 4
}
